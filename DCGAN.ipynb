{
 "cells": [
  {
   "cell_type": "code",
   "execution_count": 1,
   "metadata": {
    "collapsed": true,
    "pycharm": {
     "name": "#%%\n"
    }
   },
   "outputs": [],
   "source": [
    "import torch\n",
    "import torch.nn as nn"
   ]
  },
  {
   "cell_type": "code",
   "execution_count": 2,
   "metadata": {
    "collapsed": false,
    "pycharm": {
     "name": "#%%\n"
    }
   },
   "outputs": [],
   "source": [
    "class Discriminator(nn.Module):\n",
    "    def __init__(self, channel_count, feature_d):\n",
    "        \"\"\"\n",
    "\n",
    "        :param channel_count: how many color channels are there in the image\n",
    "        :param feature_d:\n",
    "        \"\"\"\n",
    "        super(Discriminator, self).__init__()\n",
    "\n",
    "        self.network = nn.Sequential(\n",
    "            # Input: N x channel_count x 64 x 64\n",
    "            nn.Conv2d(\n",
    "                channel_count, feature_d, kernel_size=4, stride=2, padding=1\n",
    "            ),\n",
    "            nn.LeakyReLU(0.2),\n",
    "            self.block(feature_d, feature_d * 2),  # 16x16\n",
    "            self.block(feature_d * 2, feature_d * 4),  #8x8\n",
    "            self.block(feature_d * 4, feature_d * 8),  #4x4\n",
    "\n",
    "            nn.Conv2d(feature_d * 8, 1, kernel_size=4, stride=2, padding=0),  # 1x1\n",
    "            nn.Sigmoid()\n",
    "        )\n",
    "\n",
    "    @staticmethod\n",
    "    def block(in_channels: int, out_channels: int,\n",
    "              kernel_size: int = 4, stride: int = 2, padding: int = 1) -> nn.Sequential:\n",
    "        \"\"\"\n",
    "        Get a building block of Discriminator\n",
    "        :param in_channels:\n",
    "        :param out_channels:\n",
    "        :param kernel_size:\n",
    "        :param stride:\n",
    "        :param padding:\n",
    "        :return:\n",
    "        \"\"\"\n",
    "        return nn.Sequential(\n",
    "            nn.Conv2d(\n",
    "                in_channels=in_channels,\n",
    "                out_channels=out_channels,\n",
    "                kernel_size=kernel_size,\n",
    "                stride=stride,\n",
    "                padding=padding,\n",
    "                bias=False\n",
    "            ),\n",
    "            nn.BatchNorm2d(out_channels),\n",
    "            nn.LeakyReLU(0.2)\n",
    "        )\n",
    "\n",
    "    def forward(self, x) -> torch.Tensor:\n",
    "        return self.network(x)\n",
    "\n"
   ]
  },
  {
   "cell_type": "code",
   "execution_count": 3,
   "metadata": {
    "collapsed": false,
    "pycharm": {
     "name": "#%%\n"
    }
   },
   "outputs": [],
   "source": [
    "class Generator(nn.Module):\n",
    "    def __init__(self, noise_size, channel_count, features_g):\n",
    "        super(Generator, self).__init__()\n",
    "        self.network = nn.Sequential(\n",
    "            self.block(noise_size, features_g * 16, stride=1, padding=0),  # N x f_g x 16 x 4 x 4\n",
    "            self.block(features_g * 16, features_g * 8),  # 8x8\n",
    "            self.block(features_g * 8, features_g * 4),  # 16x16\n",
    "            self.block(features_g * 4, features_g * 2),  # 32x32\n",
    "\n",
    "            nn.ConvTranspose2d(\n",
    "                features_g * 2,\n",
    "                channel_count,\n",
    "                kernel_size=4,\n",
    "                stride=2,\n",
    "                padding=1\n",
    "            ),\n",
    "            nn.Tanh()  # -1 to 1\n",
    "        )\n",
    "\n",
    "    @staticmethod\n",
    "    def block(in_channels: int, out_channels: int,\n",
    "              kernel_size: int = 4, stride: int = 2, padding: int = 1) -> nn.Sequential:\n",
    "        \"\"\"\n",
    "        Get a building block of Generator\n",
    "        :param in_channels:\n",
    "        :param out_channels:\n",
    "        :param kernel_size:\n",
    "        :param stride:\n",
    "        :param padding:\n",
    "        :return:\n",
    "        \"\"\"\n",
    "        return nn.Sequential(\n",
    "            nn.ConvTranspose2d(\n",
    "                in_channels=in_channels,\n",
    "                out_channels=out_channels,\n",
    "                kernel_size=kernel_size,\n",
    "                stride=stride,\n",
    "                padding=padding,\n",
    "                bias=False\n",
    "            ),\n",
    "            nn.BatchNorm2d(out_channels),\n",
    "            nn.ReLU()\n",
    "        )\n",
    "    def forward(self, x) -> torch.Tensor:\n",
    "        return self.network(x)\n"
   ]
  },
  {
   "cell_type": "code",
   "execution_count": 4,
   "metadata": {
    "collapsed": false,
    "pycharm": {
     "name": "#%%\n"
    }
   },
   "outputs": [],
   "source": [
    "def initialize_weight(model):\n",
    "    for m in model.modules():\n",
    "        if isinstance(m, (\n",
    "                nn.Conv2d, nn.ConvTranspose2d, nn.BatchNorm2d\n",
    "        )):\n",
    "            nn.init.normal_(m.weight.data, 0.0, 0.002)\n",
    "\n"
   ]
  },
  {
   "cell_type": "code",
   "execution_count": 5,
   "metadata": {
    "collapsed": false,
    "pycharm": {
     "name": "#%%\n"
    }
   },
   "outputs": [],
   "source": [
    "def test():\n",
    "    n = 8\n",
    "    channel_count = 3\n",
    "    h = 64\n",
    "    w = 64\n",
    "\n",
    "    noise_dim = 100\n",
    "    x = torch.rand((n, channel_count, h, w))\n",
    "\n",
    "    disc = Discriminator(channel_count, 8)\n",
    "    initialize_weight(disc)\n",
    "\n",
    "    # print(disc(x).shape)\n",
    "\n",
    "    assert  disc(x).shape == (n, 1, 1, 1)\n",
    "\n",
    "    gen = Generator(noise_dim, channel_count, 8)\n",
    "    z = torch.randn((n, noise_dim, 1, 1))\n",
    "    initialize_weight(gen)\n",
    "    assert gen(z).shape == (n, channel_count, h, w)\n",
    "\n",
    "    print(\"success\")\n",
    "\n",
    "# test()"
   ]
  },
  {
   "cell_type": "code",
   "execution_count": 6,
   "metadata": {
    "collapsed": false,
    "pycharm": {
     "name": "#%%\n"
    }
   },
   "outputs": [],
   "source": [
    "device = torch.device(\"cuda\" if torch.cuda.is_available() else \"cpu\")\n",
    "\n",
    "learning_rate = 0.0002\n",
    "batch_size = 128\n",
    "image_size = 64\n",
    "channel_count = 1\n",
    "noise_dim = 100\n",
    "num_epochs = 5\n",
    "features_discriminator = 64\n",
    "features_generate = 64"
   ]
  },
  {
   "cell_type": "code",
   "execution_count": 7,
   "metadata": {},
   "outputs": [],
   "source": [
    "import torchvision\n",
    "import torchvision.transforms as transforms\n",
    "\n",
    "transforms = transforms.Compose([\n",
    "    transforms.Resize(image_size),\n",
    "    transforms.ToTensor(),\n",
    "    transforms.Normalize(\n",
    "        [0.5 for _ in range(channel_count)], [0.5 for _ in range(channel_count)]\n",
    "    )\n",
    "])\n"
   ]
  },
  {
   "cell_type": "code",
   "execution_count": 8,
   "metadata": {},
   "outputs": [],
   "source": [
    "import torchvision.datasets as datasets\n",
    "import torch.utils.data as data\n",
    "# import SummaryWriter\n",
    "from torch.utils.tensorboard import SummaryWriter\n",
    "# import DataLoader\n",
    "from torch.utils.data import DataLoader\n",
    "\n",
    "\n",
    "dataset = datasets.MNIST(root=\"dataset/\", transform=transforms, download=True)\n",
    "\n",
    "\n",
    "loader = DataLoader(dataset, batch_size=batch_size, shuffle=True)\n",
    "\n",
    "gen = Generator(noise_dim, channel_count, features_generate).to(device)\n",
    "initialize_weight(gen)\n",
    "gen.train()\n",
    "disc = Discriminator(channel_count, features_discriminator).to(device)\n",
    "initialize_weight(disc)\n",
    "disc.train()\n",
    "\n",
    "generator_optimizer = torch.optim.Adam(gen.parameters(), lr=learning_rate, betas=(0.5, 0.999))\n",
    "\n",
    "discriminator_optimizer = torch.optim.Adam(disc.parameters(), lr=learning_rate, betas=(0.5, 0.999))\n",
    "\n",
    "criterion = nn.BCELoss()\n",
    "\n",
    "fixed_noise = torch.randn(32, noise_dim, 1, 1).to(device)\n",
    "writer_real = SummaryWriter(f\"logs/real\")\n",
    "writer_fake = SummaryWriter(f\"logs/fake\")\n"
   ]
  },
  {
   "cell_type": "code",
   "execution_count": 9,
   "metadata": {},
   "outputs": [
    {
     "name": "stdout",
     "output_type": "stream",
     "text": [
      "Epoch [0/5] Batch 0/469                   Loss D: 0.6932, loss G: 0.6895\n",
      "Epoch [0/5] Batch 100/469                   Loss D: 0.0311, loss G: 3.4227\n",
      "Epoch [0/5] Batch 200/469                   Loss D: 0.0183, loss G: 4.1058\n",
      "Epoch [0/5] Batch 300/469                   Loss D: 0.0043, loss G: 5.3488\n",
      "Epoch [0/5] Batch 400/469                   Loss D: 0.9546, loss G: 2.6625\n",
      "Epoch [1/5] Batch 0/469                   Loss D: 1.1623, loss G: 2.0822\n",
      "Epoch [1/5] Batch 100/469                   Loss D: 0.6843, loss G: 0.6655\n",
      "Epoch [1/5] Batch 200/469                   Loss D: 0.6538, loss G: 0.7261\n",
      "Epoch [1/5] Batch 300/469                   Loss D: 0.6320, loss G: 0.7279\n",
      "Epoch [1/5] Batch 400/469                   Loss D: 0.6606, loss G: 0.9413\n",
      "Epoch [2/5] Batch 0/469                   Loss D: 0.6748, loss G: 0.5267\n",
      "Epoch [2/5] Batch 100/469                   Loss D: 0.6697, loss G: 0.7422\n",
      "Epoch [2/5] Batch 200/469                   Loss D: 0.6914, loss G: 0.6239\n",
      "Epoch [2/5] Batch 300/469                   Loss D: 0.6668, loss G: 0.6199\n",
      "Epoch [2/5] Batch 400/469                   Loss D: 0.6694, loss G: 1.0039\n",
      "Epoch [3/5] Batch 0/469                   Loss D: 0.6921, loss G: 1.1527\n",
      "Epoch [3/5] Batch 100/469                   Loss D: 0.6687, loss G: 0.7222\n",
      "Epoch [3/5] Batch 200/469                   Loss D: 0.6644, loss G: 0.7972\n",
      "Epoch [3/5] Batch 300/469                   Loss D: 0.6439, loss G: 0.8530\n",
      "Epoch [3/5] Batch 400/469                   Loss D: 0.7297, loss G: 0.6452\n",
      "Epoch [4/5] Batch 0/469                   Loss D: 0.6624, loss G: 0.6122\n",
      "Epoch [4/5] Batch 100/469                   Loss D: 0.6602, loss G: 0.7765\n",
      "Epoch [4/5] Batch 200/469                   Loss D: 0.7783, loss G: 1.1974\n",
      "Epoch [4/5] Batch 300/469                   Loss D: 0.5589, loss G: 1.5058\n",
      "Epoch [4/5] Batch 400/469                   Loss D: 0.6424, loss G: 0.7793\n"
     ]
    }
   ],
   "source": [
    "step = 0\n",
    "\n",
    "\n",
    "for epoch in range(5):\n",
    "    for batch_idx, (real, _) in enumerate(loader):\n",
    "        real = real.to(device)\n",
    "\n",
    "        noise = torch.randn(batch_size, noise_dim, 1, 1).to(device)\n",
    "        fake = gen(noise)\n",
    "\n",
    "        # Train Discriminator: max log(D(x)) + log(1 - D(G(z)))\n",
    "        disc_real = disc(real).reshape(-1)\n",
    "        loss_disc_real = criterion(disc_real, torch.ones_like(disc_real))\n",
    "        \n",
    "        disc_fake = disc(fake).reshape(-1)\n",
    "        loss_disc_fake = criterion(disc_fake, torch.zeros_like(disc_fake))\n",
    "        loss_disc = (loss_disc_real + loss_disc_fake) / 2\n",
    "        disc.zero_grad()\n",
    "        loss_disc.backward(retain_graph=True)\n",
    "        discriminator_optimizer.step()\n",
    "        # Train Generator: min log(1 - D(G(z))) <-> max log(D(G(z))\n",
    "        output = disc(fake).reshape(-1)\n",
    "        loss_gen = criterion(output, torch.ones_like(output))\n",
    "        gen.zero_grad()\n",
    "        loss_gen.backward()\n",
    "        generator_optimizer.step()\n",
    "\n",
    "        if batch_idx % 100 == 0:\n",
    "            print(\n",
    "                f\"Epoch [{epoch}/{num_epochs}] Batch {batch_idx}/{len(loader)} \\\n",
    "                  Loss D: {loss_disc:.4f}, loss G: {loss_gen:.4f}\"\n",
    "            )\n",
    "\n",
    "            with torch.no_grad():\n",
    "                fake = gen(fixed_noise)\n",
    "                img_grid_real = torchvision.utils.make_grid(\n",
    "                    real[:32], normalize=True\n",
    "                )\n",
    "                img_grid_fake = torchvision.utils.make_grid(\n",
    "                    fake[:32], normalize=True\n",
    "                )\n",
    "\n",
    "                writer_real.add_image(\"Mnist Real Images\", img_grid_real, global_step=step)\n",
    "                writer_fake.add_image(\"Mnist Fake Images\", img_grid_fake, global_step=step)\n",
    "\n",
    "                step += 1\n"
   ]
  },
  {
   "cell_type": "code",
   "execution_count": null,
   "metadata": {},
   "outputs": [],
   "source": []
  },
  {
   "cell_type": "code",
   "execution_count": 14,
   "metadata": {},
   "outputs": [
    {
     "name": "stdout",
     "output_type": "stream",
     "text": [
      "torch.Size([32, 1, 64, 64])\n",
      "(1, 64, 64)\n"
     ]
    },
    {
     "data": {
      "text/plain": [
       "<matplotlib.image.AxesImage at 0x1b2c4cf46a0>"
      ]
     },
     "execution_count": 14,
     "metadata": {},
     "output_type": "execute_result"
    },
    {
     "data": {
      "image/png": "[encoded data removed]",
      "text/plain": [
       "<Figure size 640x480 with 1 Axes>"
      ]
     },
     "metadata": {},
     "output_type": "display_data"
    }
   ],
   "source": [
    "import PIL\n",
    "import matplotlib.pyplot as plt\n",
    "\n",
    "print(gen(fixed_noise).shape)\n",
    "img = gen(fixed_noise)[4].detach().cpu().numpy()\n",
    "print(img.shape)\n",
    "plt.imshow(img.reshape(64, 64), cmap=\"gray\")"
   ]
  }
 ],
 "metadata": {
  "kernelspec": {
   "display_name": "Python 3.10.4 ('venv': venv)",
   "language": "python",
   "name": "python3"
  },
  "language_info": {
   "codemirror_mode": {
    "name": "ipython",
    "version": 3
   },
   "file_extension": ".py",
   "mimetype": "text/x-python",
   "name": "python",
   "nbconvert_exporter": "python",
   "pygments_lexer": "ipython3",
   "version": "3.10.4"
  },
  "vscode": {
   "interpreter": {
    "hash": "e779ee011c05050c0da67e414d749e2579164d066dd78668991fd7e38f2a818d"
   }
  }
 },
 "nbformat": 4,
 "nbformat_minor": 0
}
